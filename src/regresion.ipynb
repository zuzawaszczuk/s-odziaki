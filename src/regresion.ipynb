{
 "cells": [
  {
   "cell_type": "code",
   "execution_count": 9,
   "metadata": {},
   "outputs": [
    {
     "name": "stdout",
     "output_type": "stream",
     "text": [
      "Mean Squared Error: 22.33\n",
      "Predicted Demand: [20.41122  18.980158]\n"
     ]
    }
   ],
   "source": [
    "import pandas as pd\n",
    "import numpy as np\n",
    "from xgboost import XGBRegressor\n",
    "from sklearn.model_selection import train_test_split\n",
    "from sklearn.metrics import mean_squared_error\n",
    "\n",
    "# Generate sample data (You should replace this with your actual data)\n",
    "def generate_sample_data():\n",
    "    data = {\n",
    "        'feature1': np.random.rand(1000),\n",
    "        'feature2': np.random.rand(1000),\n",
    "        'feature3': np.random.rand(1000),\n",
    "        'demand': np.random.poisson(lam=20, size=1000)\n",
    "    }\n",
    "    return pd.DataFrame(data)\n",
    "\n",
    "# Load your dataset\n",
    "df = generate_sample_data()\n",
    "\n",
    "# Features and target variable\n",
    "X = df[['feature1', 'feature2', 'feature3']]\n",
    "y = df['demand']\n",
    "\n",
    "# Split the data into training and testing sets\n",
    "X_train, X_test, y_train, y_test = train_test_split(X, y, test_size=0.2, random_state=42)\n",
    "\n",
    "# Create and train the XGBoost model\n",
    "model = XGBRegressor(objective='reg:squarederror', n_estimators=100, learning_rate=0.1)\n",
    "model.fit(X_train, y_train)\n",
    "\n",
    "# Make predictions\n",
    "y_pred = model.predict(X_test)\n",
    "\n",
    "# Evaluate the model\n",
    "mse = mean_squared_error(y_test, y_pred)\n",
    "print(f\"Mean Squared Error: {mse:.2f}\")\n",
    "\n",
    "# Example of predicting future demand for new data\n",
    "new_data = pd.DataFrame({\n",
    "    'feature1': [0.5, 0.6],\n",
    "    'feature2': [0.7, 0.8],\n",
    "    'feature3': [0.1, 0.2]\n",
    "})\n",
    "predicted_demand = model.predict(new_data)\n",
    "print(f\"Predicted Demand: {predicted_demand}\")"
   ]
  }
 ],
 "metadata": {
  "kernelspec": {
   "display_name": ".venv",
   "language": "python",
   "name": "python3"
  },
  "language_info": {
   "codemirror_mode": {
    "name": "ipython",
    "version": 3
   },
   "file_extension": ".py",
   "mimetype": "text/x-python",
   "name": "python",
   "nbconvert_exporter": "python",
   "pygments_lexer": "ipython3",
   "version": "3.12.6"
  }
 },
 "nbformat": 4,
 "nbformat_minor": 2
}
